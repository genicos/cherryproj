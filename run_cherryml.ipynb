{
 "cells": [
  {
   "cell_type": "markdown",
   "metadata": {},
   "source": [
    "# Running CherryML on Respiratory Complex I"
   ]
  },
  {
   "cell_type": "code",
   "execution_count": 1,
   "metadata": {},
   "outputs": [],
   "source": [
    "import os\n",
    "os.chdir(\"/Users/jack/classes/ccb293/final_project/cherryproj/CherryML\")"
   ]
  },
  {
   "cell_type": "markdown",
   "metadata": {},
   "source": [
    "## LG Model"
   ]
  },
  {
   "cell_type": "code",
   "execution_count": 2,
   "metadata": {},
   "outputs": [
    {
     "name": "stdout",
     "output_type": "stream",
     "text": [
      "[2024-12-03 17:28:19,349] - cherryml.caching - INFO - Setting cache to use hash length: 64\n",
      "[2024-12-03 17:28:19,349] - cherryml.caching - INFO - Setting cache to use 0 directory levels.\n",
      "[2024-12-03 17:28:19,349] - cherryml.caching - INFO - Setting cache directory to: ../data/cache\n",
      "/Users/jack/classes/ccb293/final_project/cherryproj/CherryML/cherryml/io/_rate_matrix.py:58: FutureWarning: The 'delim_whitespace' keyword in pd.read_csv is deprecated and will be removed in a future version. Use ``sep='\\s+'`` instead\n",
      "  res = pd.read_csv(\n"
     ]
    }
   ],
   "source": [
    "# LG model (this does not require the contacts matrix, but gives the same error)\n",
    "proj_dir = \"../data\"\n",
    "\n",
    "!(python -m cherryml \\\n",
    "    --output_path $proj_dir/learned_rate_matrix_complexI.txt \\\n",
    "    --model_name LG \\\n",
    "    --msa_dir $proj_dir/msa_ETC_fasta_files \\\n",
    "    --cache_dir $proj_dir/cache \\\n",
    "    --num_processes_tree_estimation 5)"
   ]
  },
  {
   "cell_type": "markdown",
   "metadata": {},
   "source": [
    "### Data Analysis"
   ]
  },
  {
   "cell_type": "code",
   "execution_count": 3,
   "metadata": {},
   "outputs": [
    {
     "data": {
      "image/png": "[encoded data removed]",
      "text/plain": [
       "<Figure size 640x480 with 2 Axes>"
      ]
     },
     "metadata": {},
     "output_type": "display_data"
    }
   ],
   "source": [
    "import pandas as pd\n",
    "import seaborn as sns\n",
    "import numpy as np\n",
    "import matplotlib.pyplot as plt\n",
    "\n",
    "df = pd.read_csv(f\"{proj_dir}/learned_rate_matrix_complexI.txt\", sep=\"\\t\", index_col=0)\n",
    "# Q = df.copy().values\n",
    "df[df < 0] = np.nan\n",
    "sns.heatmap(df, center=0, cmap=\"PiYG\")\n",
    "plt.show()"
   ]
  },
  {
   "cell_type": "markdown",
   "metadata": {},
   "source": [
    "## Run on Membrane / other subunits separately"
   ]
  },
  {
   "cell_type": "code",
   "execution_count": 112,
   "metadata": {},
   "outputs": [],
   "source": [
    "families = []\n",
    "\n",
    "for i in os.listdir(\"/Users/jack/classes/ccb293/final_project/cherryproj/data/msa_ETC_fasta_files\"):\n",
    "    fam = i.split(\".\")[0]\n",
    "    # print(fam)\n",
    "    families.append(fam)"
   ]
  },
  {
   "cell_type": "code",
   "execution_count": 113,
   "metadata": {},
   "outputs": [
    {
     "data": {
      "text/html": [
       "<div>\n",
       "<style scoped>\n",
       "    .dataframe tbody tr th:only-of-type {\n",
       "        vertical-align: middle;\n",
       "    }\n",
       "\n",
       "    .dataframe tbody tr th {\n",
       "        vertical-align: top;\n",
       "    }\n",
       "\n",
       "    .dataframe thead th {\n",
       "        text-align: right;\n",
       "    }\n",
       "</style>\n",
       "<table border=\"1\" class=\"dataframe\">\n",
       "  <thead>\n",
       "    <tr style=\"text-align: right;\">\n",
       "      <th></th>\n",
       "      <th>#</th>\n",
       "      <th>Human/Bovine subunit</th>\n",
       "      <th>Human protein</th>\n",
       "      <th>Protein description (UniProt)</th>\n",
       "      <th>pfam</th>\n",
       "      <th>Type</th>\n",
       "      <th>Chain</th>\n",
       "      <th>Auth Name</th>\n",
       "      <th>membrane</th>\n",
       "    </tr>\n",
       "  </thead>\n",
       "  <tbody>\n",
       "    <tr>\n",
       "      <th>7</th>\n",
       "      <td>8</td>\n",
       "      <td>ND1 / NU1M</td>\n",
       "      <td>NU1M_HUMAN</td>\n",
       "      <td>NADH-ubiquinone oxidoreductase chain 1 EC 1.6.5.3</td>\n",
       "      <td>PF00146</td>\n",
       "      <td>Core</td>\n",
       "      <td>PA</td>\n",
       "      <td>s</td>\n",
       "      <td>True</td>\n",
       "    </tr>\n",
       "    <tr>\n",
       "      <th>8</th>\n",
       "      <td>9</td>\n",
       "      <td>ND2 / NU2M</td>\n",
       "      <td>NU2M_HUMAN</td>\n",
       "      <td>NADH-ubiquinone oxidoreductase chain 2 EC 1.6.5.3</td>\n",
       "      <td>PF00361;PF06444</td>\n",
       "      <td>Core</td>\n",
       "      <td>GA</td>\n",
       "      <td>i</td>\n",
       "      <td>True</td>\n",
       "    </tr>\n",
       "    <tr>\n",
       "      <th>9</th>\n",
       "      <td>10</td>\n",
       "      <td>ND3 / NU3M</td>\n",
       "      <td>NU3M_HUMAN</td>\n",
       "      <td>NADH-ubiquinone oxidoreductase chain 3 EC 1.6.5.3</td>\n",
       "      <td>PF00507</td>\n",
       "      <td>Core</td>\n",
       "      <td>HA</td>\n",
       "      <td>j</td>\n",
       "      <td>True</td>\n",
       "    </tr>\n",
       "    <tr>\n",
       "      <th>10</th>\n",
       "      <td>11</td>\n",
       "      <td>ND4 / NU4M</td>\n",
       "      <td>NU4M_HUMAN</td>\n",
       "      <td>NADH-ubiquinone oxidoreductase chain 4 EC 1.6.5.3</td>\n",
       "      <td>PF01059;PF00361</td>\n",
       "      <td>Core</td>\n",
       "      <td>OA</td>\n",
       "      <td>r</td>\n",
       "      <td>True</td>\n",
       "    </tr>\n",
       "    <tr>\n",
       "      <th>11</th>\n",
       "      <td>12</td>\n",
       "      <td>ND4L / NULM</td>\n",
       "      <td>NU4LM_HUMAN</td>\n",
       "      <td>NADH-ubiquinone oxidoreductase chain 4L EC 1.6...</td>\n",
       "      <td>PF00420</td>\n",
       "      <td>Core</td>\n",
       "      <td>IA</td>\n",
       "      <td>k</td>\n",
       "      <td>True</td>\n",
       "    </tr>\n",
       "    <tr>\n",
       "      <th>12</th>\n",
       "      <td>13</td>\n",
       "      <td>ND5 / NU5M</td>\n",
       "      <td>NU5M_HUMAN</td>\n",
       "      <td>NADH-ubiquinone oxidoreductase chain 5 EC 1.6.5.3</td>\n",
       "      <td>PF00361;PF06455;PF00662</td>\n",
       "      <td>Core</td>\n",
       "      <td>JA</td>\n",
       "      <td>l</td>\n",
       "      <td>True</td>\n",
       "    </tr>\n",
       "    <tr>\n",
       "      <th>13</th>\n",
       "      <td>14</td>\n",
       "      <td>ND6 / NU6M</td>\n",
       "      <td>NU6M_HUMAN</td>\n",
       "      <td>NADH-ubiquinone oxidoreductase chain 6 EC 1.6.5.3</td>\n",
       "      <td>PF00499</td>\n",
       "      <td>Core</td>\n",
       "      <td>KA</td>\n",
       "      <td>m</td>\n",
       "      <td>True</td>\n",
       "    </tr>\n",
       "  </tbody>\n",
       "</table>\n",
       "</div>"
      ],
      "text/plain": [
       "     # Human/Bovine subunit Human protein  \\\n",
       "7    8           ND1 / NU1M    NU1M_HUMAN   \n",
       "8    9           ND2 / NU2M    NU2M_HUMAN   \n",
       "9   10           ND3 / NU3M    NU3M_HUMAN   \n",
       "10  11           ND4 / NU4M    NU4M_HUMAN   \n",
       "11  12          ND4L / NULM   NU4LM_HUMAN   \n",
       "12  13           ND5 / NU5M    NU5M_HUMAN   \n",
       "13  14           ND6 / NU6M    NU6M_HUMAN   \n",
       "\n",
       "                        Protein description (UniProt)  \\\n",
       "7   NADH-ubiquinone oxidoreductase chain 1 EC 1.6.5.3   \n",
       "8   NADH-ubiquinone oxidoreductase chain 2 EC 1.6.5.3   \n",
       "9   NADH-ubiquinone oxidoreductase chain 3 EC 1.6.5.3   \n",
       "10  NADH-ubiquinone oxidoreductase chain 4 EC 1.6.5.3   \n",
       "11  NADH-ubiquinone oxidoreductase chain 4L EC 1.6...   \n",
       "12  NADH-ubiquinone oxidoreductase chain 5 EC 1.6.5.3   \n",
       "13  NADH-ubiquinone oxidoreductase chain 6 EC 1.6.5.3   \n",
       "\n",
       "                       pfam  Type Chain Auth Name membrane  \n",
       "7                   PF00146  Core    PA         s     True  \n",
       "8           PF00361;PF06444  Core    GA         i     True  \n",
       "9                   PF00507  Core    HA         j     True  \n",
       "10          PF01059;PF00361  Core    OA         r     True  \n",
       "11                  PF00420  Core    IA         k     True  \n",
       "12  PF00361;PF06455;PF00662  Core    JA         l     True  \n",
       "13                  PF00499  Core    KA         m     True  "
      ]
     },
     "execution_count": 113,
     "metadata": {},
     "output_type": "execute_result"
    }
   ],
   "source": [
    "sdf = pd.read_csv(\"../complexI_subunits.csv\")\n",
    "sdf.loc[:, 'pfam'] = sdf['pfam'].str.replace(r'\\xa0', '', regex=True)\n",
    "core_subunits = sdf[(sdf[\"Type\"] == \"Core\")]\n",
    "membrane_subunits = core_subunits[core_subunits[\"membrane\"]]\n",
    "non_membrane_subunits = core_subunits[core_subunits[\"membrane\"] == False]\n",
    "membrane_subunits"
   ]
  },
  {
   "cell_type": "code",
   "execution_count": 120,
   "metadata": {},
   "outputs": [
    {
     "name": "stdout",
     "output_type": "stream",
     "text": [
      "s ['PF00146']\n",
      "i ['PF00361']\n",
      "j ['PF00507']\n",
      "r ['PF01059', 'PF00361']\n",
      "k ['PF00420']\n",
      "l ['PF00361', 'PF06455']\n",
      "m ['PF00499']\n",
      "C ['PF01058']\n",
      "B ['PF12838']\n",
      "O ['PF01257']\n",
      "P ['PF00329']\n",
      "Q ['PF00346']\n",
      "A ['PF01512']\n",
      "M ['PF00384']\n"
     ]
    }
   ],
   "source": [
    "membrane_pfams, non_membrane_pfams = set(), set()\n",
    "\n",
    "for _, row in membrane_subunits.iterrows():\n",
    "    subunit_families = row['pfam'].split(\";\")\n",
    "    subunit_families = [i for i in subunit_families if i in families]\n",
    "    membrane_pfams.update(subunit_families)\n",
    "    print(row[\"Auth Name\"], subunit_families)\n",
    "\n",
    "for _, row in non_membrane_subunits.iterrows():\n",
    "    subunit_families = row['pfam'].split(\";\")\n",
    "    subunit_families = [i for i in subunit_families if i in families]\n",
    "    non_membrane_pfams.update(subunit_families)\n",
    "    print(row[\"Auth Name\"], subunit_families)"
   ]
  },
  {
   "cell_type": "code",
   "execution_count": null,
   "metadata": {},
   "outputs": [],
   "source": [
    "import shutil\n",
    "\n",
    "os.makedirs(f\"{proj_dir}/msa_ETC_fasta_files_membrane\", exist_ok=True)\n",
    "os.makedirs(f\"{proj_dir}/msa_ETC_fasta_files_non_membrane\", exist_ok=True)\n",
    "\n",
    "for fam in membrane_pfams:\n",
    "    shutil.copyfile(\n",
    "        f\"{proj_dir}/msa_ETC_fasta_files/{fam}.txt\",\n",
    "        f\"{proj_dir}/msa_ETC_fasta_files_membrane/{fam}.txt\",\n",
    "        )\n",
    "    \n",
    "for fam in non_membrane_pfams:\n",
    "    shutil.copyfile(\n",
    "        f\"{proj_dir}/msa_ETC_fasta_files/{fam}.txt\",\n",
    "        f\"{proj_dir}/msa_ETC_fasta_files_non_membrane/{fam}.txt\",\n",
    "        )"
   ]
  },
  {
   "cell_type": "markdown",
   "metadata": {},
   "source": [
    "### CherryML on Membrane"
   ]
  },
  {
   "cell_type": "code",
   "execution_count": 124,
   "metadata": {},
   "outputs": [
    {
     "name": "stdout",
     "output_type": "stream",
     "text": [
      "[2024-12-03 21:20:34,384] - cherryml.caching - INFO - Setting cache to use hash length: 64\n",
      "[2024-12-03 21:20:34,384] - cherryml.caching - INFO - Setting cache to use 0 directory levels.\n",
      "[2024-12-03 21:20:34,385] - cherryml.caching - INFO - Setting cache directory to: ../data/cache\n",
      "[2024-12-03 21:20:34,404] - cherryml.phylogeny_estimation._fast_tree - INFO - Going to run on 7 families using 5 processes\n",
      "  0%|                                                     | 0/5 [00:00<?, ?it/s][2024-12-03 21:20:36,276] - cherryml.caching - INFO - Setting cache to use hash length: 64\n",
      "[2024-12-03 21:20:36,277] - cherryml.caching - INFO - Setting cache to use 0 directory levels.\n",
      "/Users/jack/classes/ccb293/final_project/cherryproj/CherryML/cherryml/io/_rate_matrix.py:58: FutureWarning: The 'delim_whitespace' keyword in pd.read_csv is deprecated and will be removed in a future version. Use ``sep='\\s+'`` instead\n",
      "  res = pd.read_csv(\n",
      "[2024-12-03 21:20:36,343] - cherryml.caching - INFO - Setting cache to use hash length: 64\n",
      "[2024-12-03 21:20:36,343] - cherryml.caching - INFO - Setting cache to use 0 directory levels.\n",
      "/Users/jack/classes/ccb293/final_project/cherryproj/CherryML/cherryml/io/_rate_matrix.py:58: FutureWarning: The 'delim_whitespace' keyword in pd.read_csv is deprecated and will be removed in a future version. Use ``sep='\\s+'`` instead\n",
      "  res = pd.read_csv(\n",
      "[2024-12-03 21:20:36,350] - cherryml.caching - INFO - Setting cache to use hash length: 64\n",
      "[2024-12-03 21:20:36,350] - cherryml.caching - INFO - Setting cache to use 0 directory levels.\n",
      "/Users/jack/classes/ccb293/final_project/cherryproj/CherryML/cherryml/io/_rate_matrix.py:58: FutureWarning: The 'delim_whitespace' keyword in pd.read_csv is deprecated and will be removed in a future version. Use ``sep='\\s+'`` instead\n",
      "  res = pd.read_csv(\n",
      "[2024-12-03 21:20:36,364] - cherryml.caching - INFO - Setting cache to use hash length: 64\n",
      "[2024-12-03 21:20:36,364] - cherryml.caching - INFO - Setting cache to use 0 directory levels.\n",
      "/Users/jack/classes/ccb293/final_project/cherryproj/CherryML/cherryml/io/_rate_matrix.py:58: FutureWarning: The 'delim_whitespace' keyword in pd.read_csv is deprecated and will be removed in a future version. Use ``sep='\\s+'`` instead\n",
      "  res = pd.read_csv(\n",
      "[2024-12-03 21:20:36,425] - cherryml.caching - INFO - Setting cache to use hash length: 64\n",
      "[2024-12-03 21:20:36,425] - cherryml.caching - INFO - Setting cache to use 0 directory levels.\n",
      "/Users/jack/classes/ccb293/final_project/cherryproj/CherryML/cherryml/io/_rate_matrix.py:58: FutureWarning: The 'delim_whitespace' keyword in pd.read_csv is deprecated and will be removed in a future version. Use ``sep='\\s+'`` instead\n",
      "  res = pd.read_csv(\n",
      "/Users/jack/classes/ccb293/final_project/cherryproj/CherryML/cherryml/io/_rate_matrix.py:58: FutureWarning: The 'delim_whitespace' keyword in pd.read_csv is deprecated and will be removed in a future version. Use ``sep='\\s+'`` instead\n",
      "  res = pd.read_csv(\n",
      "Ignored unknown character X (seen 2 times)\n",
      "/Users/jack/classes/ccb293/final_project/cherryproj/CherryML/cherryml/io/_rate_matrix.py:58: FutureWarning: The 'delim_whitespace' keyword in pd.read_csv is deprecated and will be removed in a future version. Use ``sep='\\s+'`` instead\n",
      "  res = pd.read_csv(\n",
      "Ignored unknown character X (seen 1 times)\n",
      "100%|█████████████████████████████████████████████| 5/5 [00:14<00:00,  2.89s/it]\n",
      "[2024-12-03 21:20:48,927] - cherryml.phylogeny_estimation._fast_tree - INFO - Done!\n",
      "[2024-12-03 21:20:48,971] - cherryml.counting._count_transitions - INFO - Starting on 7 families\n",
      "[2024-12-03 21:20:48,972] - cherryml.counting._count_transitions - INFO - Going to run C++ implementation on 7 families using 1 processes\n",
      "[2024-12-03 21:20:49,219] - cherryml.counting._count_transitions - INFO - Done!\n",
      "[2024-12-03 21:20:49,226] - cherryml.estimation._jtt_ipw - INFO - Starting\n",
      "[2024-12-03 21:20:49,240] - cherryml.estimation._jtt_ipw - INFO - Done!\n",
      "[2024-12-03 21:20:49,249] - cherryml.estimation._quantized_transitions_mle - INFO - Starting\n",
      "/Users/jack/classes/ccb293/final_project/cherryproj/CherryML/cherryml/io/_rate_matrix.py:58: FutureWarning: The 'delim_whitespace' keyword in pd.read_csv is deprecated and will be removed in a future version. Use ``sep='\\s+'`` instead\n",
      "  res = pd.read_csv(\n",
      "[2024-12-03 21:20:49,902] - cherryml.estimation._ratelearn.trainer - INFO - Training for 500 epochs\n",
      "[2024-12-03 21:20:52,966] - cherryml.estimation._ratelearn.trainer - INFO - Total time = 3.064112901687622; training time: 3.0620198249816895; eval time: 0.0004551410675048828\n",
      "[2024-12-03 21:20:53,248] - cherryml.estimation._quantized_transitions_mle - INFO - Done!\n",
      "/Users/jack/classes/ccb293/final_project/cherryproj/CherryML/cherryml/io/_rate_matrix.py:58: FutureWarning: The 'delim_whitespace' keyword in pd.read_csv is deprecated and will be removed in a future version. Use ``sep='\\s+'`` instead\n",
      "  res = pd.read_csv(\n"
     ]
    }
   ],
   "source": [
    "!(python -m cherryml \\\n",
    "    --output_path $proj_dir/learned_rate_matrix_complexI_membrane.txt \\\n",
    "    --model_name LG \\\n",
    "    --msa_dir $proj_dir/msa_ETC_fasta_files_membrane \\\n",
    "    --cache_dir $proj_dir/cache \\\n",
    "    --num_processes_tree_estimation 5)"
   ]
  },
  {
   "cell_type": "markdown",
   "metadata": {},
   "source": [
    "### CherryML on non-membrane"
   ]
  },
  {
   "cell_type": "code",
   "execution_count": 125,
   "metadata": {},
   "outputs": [
    {
     "name": "stdout",
     "output_type": "stream",
     "text": [
      "[2024-12-03 21:21:03,621] - cherryml.caching - INFO - Setting cache to use hash length: 64\n",
      "[2024-12-03 21:21:03,621] - cherryml.caching - INFO - Setting cache to use 0 directory levels.\n",
      "[2024-12-03 21:21:03,622] - cherryml.caching - INFO - Setting cache directory to: ../data/cache\n",
      "[2024-12-03 21:21:03,638] - cherryml.phylogeny_estimation._fast_tree - INFO - Going to run on 7 families using 5 processes\n",
      "  0%|                                                     | 0/5 [00:00<?, ?it/s][2024-12-03 21:21:05,819] - cherryml.caching - INFO - Setting cache to use hash length: 64\n",
      "[2024-12-03 21:21:05,819] - cherryml.caching - INFO - Setting cache to use 0 directory levels.\n",
      "/Users/jack/classes/ccb293/final_project/cherryproj/CherryML/cherryml/io/_rate_matrix.py:58: FutureWarning: The 'delim_whitespace' keyword in pd.read_csv is deprecated and will be removed in a future version. Use ``sep='\\s+'`` instead\n",
      "  res = pd.read_csv(\n",
      "[2024-12-03 21:21:05,833] - cherryml.caching - INFO - Setting cache to use hash length: 64\n",
      "[2024-12-03 21:21:05,833] - cherryml.caching - INFO - Setting cache to use hash length: 64\n",
      "[2024-12-03 21:21:05,833] - cherryml.caching - INFO - Setting cache to use 0 directory levels.\n",
      "[2024-12-03 21:21:05,833] - cherryml.caching - INFO - Setting cache to use 0 directory levels.\n",
      "/Users/jack/classes/ccb293/final_project/cherryproj/CherryML/cherryml/io/_rate_matrix.py:58: FutureWarning: The 'delim_whitespace' keyword in pd.read_csv is deprecated and will be removed in a future version. Use ``sep='\\s+'`` instead\n",
      "  res = pd.read_csv(\n",
      "/Users/jack/classes/ccb293/final_project/cherryproj/CherryML/cherryml/io/_rate_matrix.py:58: FutureWarning: The 'delim_whitespace' keyword in pd.read_csv is deprecated and will be removed in a future version. Use ``sep='\\s+'`` instead\n",
      "  res = pd.read_csv(\n",
      "[2024-12-03 21:21:05,860] - cherryml.caching - INFO - Setting cache to use hash length: 64\n",
      "[2024-12-03 21:21:05,860] - cherryml.caching - INFO - Setting cache to use 0 directory levels.\n",
      "/Users/jack/classes/ccb293/final_project/cherryproj/CherryML/cherryml/io/_rate_matrix.py:58: FutureWarning: The 'delim_whitespace' keyword in pd.read_csv is deprecated and will be removed in a future version. Use ``sep='\\s+'`` instead\n",
      "  res = pd.read_csv(\n",
      "[2024-12-03 21:21:05,891] - cherryml.caching - INFO - Setting cache to use hash length: 64\n",
      "[2024-12-03 21:21:05,891] - cherryml.caching - INFO - Setting cache to use 0 directory levels.\n",
      "/Users/jack/classes/ccb293/final_project/cherryproj/CherryML/cherryml/io/_rate_matrix.py:58: FutureWarning: The 'delim_whitespace' keyword in pd.read_csv is deprecated and will be removed in a future version. Use ``sep='\\s+'`` instead\n",
      "  res = pd.read_csv(\n",
      "Ignored unknown character U (seen 1 times)\n",
      "/Users/jack/classes/ccb293/final_project/cherryproj/CherryML/cherryml/io/_rate_matrix.py:58: FutureWarning: The 'delim_whitespace' keyword in pd.read_csv is deprecated and will be removed in a future version. Use ``sep='\\s+'`` instead\n",
      "  res = pd.read_csv(\n",
      "/Users/jack/classes/ccb293/final_project/cherryproj/CherryML/cherryml/io/_rate_matrix.py:58: FutureWarning: The 'delim_whitespace' keyword in pd.read_csv is deprecated and will be removed in a future version. Use ``sep='\\s+'`` instead\n",
      "  res = pd.read_csv(\n",
      "100%|█████████████████████████████████████████████| 5/5 [00:12<00:00,  2.44s/it]\n",
      "[2024-12-03 21:21:15,902] - cherryml.phylogeny_estimation._fast_tree - INFO - Done!\n",
      "[2024-12-03 21:21:15,958] - cherryml.counting._count_transitions - INFO - Starting on 7 families\n",
      "[2024-12-03 21:21:15,958] - cherryml.counting._count_transitions - INFO - Going to run C++ implementation on 7 families using 1 processes\n",
      "[2024-12-03 21:21:16,092] - cherryml.counting._count_transitions - INFO - Done!\n",
      "[2024-12-03 21:21:16,100] - cherryml.estimation._jtt_ipw - INFO - Starting\n",
      "[2024-12-03 21:21:16,115] - cherryml.estimation._jtt_ipw - INFO - Done!\n",
      "[2024-12-03 21:21:16,122] - cherryml.estimation._quantized_transitions_mle - INFO - Starting\n",
      "/Users/jack/classes/ccb293/final_project/cherryproj/CherryML/cherryml/io/_rate_matrix.py:58: FutureWarning: The 'delim_whitespace' keyword in pd.read_csv is deprecated and will be removed in a future version. Use ``sep='\\s+'`` instead\n",
      "  res = pd.read_csv(\n",
      "[2024-12-03 21:21:16,740] - cherryml.estimation._ratelearn.trainer - INFO - Training for 500 epochs\n",
      "[2024-12-03 21:21:20,964] - cherryml.estimation._ratelearn.trainer - INFO - Total time = 4.224310874938965; training time: 4.22273325920105; eval time: 0.0005998611450195312\n",
      "[2024-12-03 21:21:21,272] - cherryml.estimation._quantized_transitions_mle - INFO - Done!\n",
      "/Users/jack/classes/ccb293/final_project/cherryproj/CherryML/cherryml/io/_rate_matrix.py:58: FutureWarning: The 'delim_whitespace' keyword in pd.read_csv is deprecated and will be removed in a future version. Use ``sep='\\s+'`` instead\n",
      "  res = pd.read_csv(\n"
     ]
    }
   ],
   "source": [
    "!(python -m cherryml \\\n",
    "    --output_path $proj_dir/learned_rate_matrix_complexI_non_membrane.txt \\\n",
    "    --model_name LG \\\n",
    "    --msa_dir $proj_dir/msa_ETC_fasta_files_non_membrane \\\n",
    "    --cache_dir $proj_dir/cache \\\n",
    "    --num_processes_tree_estimation 5)"
   ]
  },
  {
   "cell_type": "markdown",
   "metadata": {},
   "source": [
    "## Comparison"
   ]
  },
  {
   "cell_type": "code",
   "execution_count": 129,
   "metadata": {},
   "outputs": [],
   "source": [
    "res_mem = pd.read_csv(f\"{proj_dir}/learned_rate_matrix_complexI_membrane.txt\", sep=\"\\t\", index_col=0)\n",
    "res_nonmem = pd.read_csv(f\"{proj_dir}/learned_rate_matrix_complexI_non_membrane.txt\", sep=\"\\t\", index_col=0)"
   ]
  },
  {
   "cell_type": "code",
   "execution_count": 140,
   "metadata": {},
   "outputs": [
    {
     "data": {
      "image/png": "[encoded data removed]",
      "text/plain": [
       "<Figure size 1200x500 with 4 Axes>"
      ]
     },
     "metadata": {},
     "output_type": "display_data"
    }
   ],
   "source": [
    "def heatmap(df, ax=None):\n",
    "    if ax is None:\n",
    "        fig, ax = plt.subplots()\n",
    "    df[df < 0] = np.nan\n",
    "    sns.heatmap(df, center=0, cmap=\"PiYG\", ax=ax)\n",
    "    return ax\n",
    "\n",
    "fig, axs = plt.subplots(1, 2, figsize=(12, 5))\n",
    "heatmap(res_mem, ax=axs[0])\n",
    "axs[0].set_title(\"Membrane Subunits\")\n",
    "heatmap(res_nonmem, ax=axs[1])\n",
    "axs[1].set_title(\"Non-Membrane Subunits\")\n",
    "fig.tight_layout()\n",
    "plt.show()"
   ]
  },
  {
   "cell_type": "code",
   "execution_count": 144,
   "metadata": {},
   "outputs": [
    {
     "data": {
      "image/png": "[encoded data removed]",
      "text/plain": [
       "<Figure size 640x480 with 2 Axes>"
      ]
     },
     "metadata": {},
     "output_type": "display_data"
    }
   ],
   "source": [
    "res_diff = res_mem - res_nonmem\n",
    "ax = heatmap(res_diff)\n",
    "ax.set_title(\"Difference\")\n",
    "plt.show()"
   ]
  }
 ],
 "metadata": {
  "kernelspec": {
   "display_name": "cherryml",
   "language": "python",
   "name": "python3"
  },
  "language_info": {
   "codemirror_mode": {
    "name": "ipython",
    "version": 3
   },
   "file_extension": ".py",
   "mimetype": "text/x-python",
   "name": "python",
   "nbconvert_exporter": "python",
   "pygments_lexer": "ipython3",
   "version": "3.11.10"
  }
 },
 "nbformat": 4,
 "nbformat_minor": 2
}
